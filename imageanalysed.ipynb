{
 "cells": [
  {
   "cell_type": "code",
   "execution_count": 46,
   "metadata": {},
   "outputs": [],
   "source": [
    "import cv2\n",
    "import numpy as np\n",
    "import json\n",
    "import base64\n",
    "import os\n",
    "from keras.models import load_model\n",
    "from statistics import mode\n",
    "from utils.datasets import get_labels\n",
    "from utils.inference import detect_faces\n",
    "from utils.inference import draw_text\n",
    "from utils.inference import draw_bounding_box\n",
    "from utils.inference import apply_offsets\n",
    "from utils.inference import load_detection_model\n",
    "from utils.preprocessor import preprocess_input"
   ]
  },
  {
   "cell_type": "code",
   "execution_count": 47,
   "metadata": {},
   "outputs": [],
   "source": [
    "emotion_model_path = (os.getcwd()+os.sep+'emotion_model.hdf5')\n",
    "emotion_labels = get_labels('fer2013')\n",
    "# hyper-parameters for bounding boxes shape\n",
    "emotion_offsets = (20, 40)\n",
    "\n",
    "# loading models\n",
    "face_cascade = cv2.CascadeClassifier((os.getcwd()+os.sep+'haarcascade_frontalface_default.xml'))\n",
    "emotion_classifier = load_model(emotion_model_path)\n",
    "\n",
    "# getting input model shapes for inference\n",
    "emotion_target_size = emotion_classifier.input_shape[1:3]\n"
   ]
  },
  {
   "cell_type": "code",
   "execution_count": 48,
   "metadata": {},
   "outputs": [],
   "source": [
    "def analyse_image(image_path):\n",
    "\n",
    "  print(image_path)\n",
    "  print(emotion_labels)\n",
    "\n",
    "  image = cv2.imread(image_path)\n",
    "\n",
    "  gray_image = cv2.cvtColor(image, cv2.COLOR_BGR2GRAY)\n",
    "  rgb_image = cv2.cvtColor(image, cv2.COLOR_BGR2RGB)\n",
    "\n",
    "  faces = face_cascade.detectMultiScale(\n",
    "    gray_image,\n",
    "    scaleFactor=1.3,\n",
    "    minNeighbors=5,\n",
    "    minSize=(30, 30),\n",
    "    flags=cv2.CASCADE_SCALE_IMAGE\n",
    "  )\n",
    "\n",
    "  if len(faces) == 0:\n",
    "    return { 'error': 'No faces found!' }\n",
    "\n",
    "  print('faces found:' + str(len(faces)))\n",
    "\n",
    "  for face_coordinates in faces:\n",
    "    try:\n",
    "      x1, x2, y1, y2 = apply_offsets(face_coordinates, emotion_offsets)\n",
    "      gray_face = gray_image[y1:y2, x1:x2]\n",
    "\n",
    "      try:\n",
    "          gray_face = cv2.resize(gray_face, (emotion_target_size))\n",
    "      except:\n",
    "          continue\n",
    "\n",
    "      gray_face = preprocess_input(gray_face, True)\n",
    "      gray_face = np.expand_dims(gray_face, 0)\n",
    "      gray_face = np.expand_dims(gray_face, -1)\n",
    "      emotion_prediction = emotion_classifier.predict(gray_face)\n",
    "\n",
    "      # custom_prediction = emotion_prediction[0]\n",
    "      # prediction_dict = {}\n",
    "      # for i in range(0, len(custom_prediction)):\n",
    "      #   prediction_dict[emotion_labels[i]] = custom_prediction[i]\n",
    "\n",
    "      # emotion_probability = np.max(emotion_prediction)\n",
    "      # emotion_label_arg = np.argmax(emotion_prediction)\n",
    "      # emotion_text = emotion_labels[emotion_label_arg]\n",
    "\n",
    "      if len(emotion_prediction) > 0:\n",
    "        return { 'result': ','.join(map(str, emotion_prediction[0])) }\n",
    "      else:\n",
    "        return { 'error': 'no predictions!' }\n",
    "    except:\n",
    "      # danger stuff\n",
    "      return { 'error': 'unknown error' }"
   ]
  },
  {
   "cell_type": "code",
   "execution_count": 49,
   "metadata": {},
   "outputs": [
    {
     "name": "stdout",
     "output_type": "stream",
     "text": [
      "C:\\Users\\ravindra\\Desktop\\image_analysed\\happy.jpg\n",
      "{0: 'angry', 1: 'disgust', 2: 'fear', 3: 'happy', 4: 'sad', 5: 'surprise', 6: 'neutral'}\n",
      "faces found:1\n",
      "{'result': '0.009003764,7.220131e-06,0.00040380782,0.9777558,0.00054205005,0.00011170144,0.0121757835'}\n"
     ]
    }
   ],
   "source": [
    "print(analyse_image(os.getcwd()+os.sep+'happy.jpg'))"
   ]
  }
 ],
 "metadata": {
  "kernelspec": {
   "display_name": "Python 3",
   "language": "python",
   "name": "python3"
  },
  "language_info": {
   "codemirror_mode": {
    "name": "ipython",
    "version": 3
   },
   "file_extension": ".py",
   "mimetype": "text/x-python",
   "name": "python",
   "nbconvert_exporter": "python",
   "pygments_lexer": "ipython3",
   "version": "3.7.3"
  }
 },
 "nbformat": 4,
 "nbformat_minor": 2
}
